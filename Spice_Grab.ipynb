{
  "nbformat": 4,
  "nbformat_minor": 0,
  "metadata": {
    "colab": {
      "provenance": [],
      "authorship_tag": "ABX9TyN1a6bdwWbGbEure/7jQaf9",
      "include_colab_link": true
    },
    "kernelspec": {
      "name": "python3",
      "display_name": "Python 3"
    },
    "language_info": {
      "name": "python"
    }
  },
  "cells": [
    {
      "cell_type": "markdown",
      "metadata": {
        "id": "view-in-github",
        "colab_type": "text"
      },
      "source": [
        "<a href=\"https://colab.research.google.com/github/emililili/spice-grab-recipe-search/blob/main/Spice_Grab.ipynb\" target=\"_parent\"><img src=\"https://colab.research.google.com/assets/colab-badge.svg\" alt=\"Open In Colab\"/></a>"
      ]
    },
    {
      "cell_type": "markdown",
      "source": [
        "# **Recipe Search by Ingredient: CFG Python Course 2023**\n",
        "\n",
        "The following app integrates the Edamam API for recipe searching by ingredients the user wishes to use."
      ],
      "metadata": {
        "id": "X0mYsq9bl-8N"
      }
    },
    {
      "cell_type": "code",
      "execution_count": 104,
      "metadata": {
        "id": "y0S7uhOkkw2d"
      },
      "outputs": [],
      "source": [
        "# We start by importing the requests module.\n",
        "import requests"
      ]
    },
    {
      "cell_type": "code",
      "source": [
        "# This function searches recipes based on inputted ingredients.\n",
        "def recipe_search(ingredients, diets, health, calories): \n",
        "    # Register to get an APP ID and key on https://developer.edamam.com/ \n",
        "    app_id = 'app_id={}'.format('08543282')\n",
        "    app_key = 'app_key={}'.format('7bbfb49dc7ceedc354cb535f56d49b15')\n",
        "    result = requests.get('https://api.edamam.com/search?{}&{}&{}&{}&{}&{}'.format(ingredients, diets, health, calories, app_id, app_key))\n",
        "    data = result.json()\n",
        "    return data['hits']"
      ],
      "metadata": {
        "id": "vObSApqxk7lt"
      },
      "execution_count": 105,
      "outputs": []
    },
    {
      "cell_type": "code",
      "source": [
        "def run():\n",
        "    # First we ask users to input at least one of their ingredient choices.\n",
        "    ingredients = input('Enter one or more ingredients: ')\n",
        "    while ingredients == '' or ingredients.isspace():\n",
        "        ingredients = input('Please enter at least one or more ingredients. Try again: ')\n",
        "    ingredients = 'q={}'.format(ingredients)\n",
        "    print('==================================================================================')\n",
        "\n",
        "    # We then ask them to enter any dietary preferences.\n",
        "    example_diets = ['balanced', 'high-fiber', 'high-protein', 'low-carb', 'low-fat', 'low-sodium']\n",
        "    diets = input(f'{example_diets}\\nWhat kind of diet are you on? Type \"N\" if none: ').lower()\n",
        "    while (diets != 'n') and (diets not in example_diets):\n",
        "        diets = input(f'Please choose your diet from the following, or type \"N\" if none.\\n{example_diets}: ').lower()\n",
        "    if diets == 'n':\n",
        "        diets = \"\"\n",
        "    else:\n",
        "        diets = 'diet={}'.format(diets)\n",
        "    print('==================================================================================')\n",
        "\n",
        "    # We then ask them to enter any health requirements.\n",
        "    example_health = [\"vegetarian\", \"vegan\", \"alcohol-free\", \"gluten-free\"]\n",
        "    health = input(f'{example_health}\\nWhat kind of health requirements do you have? Type \"N\" if none: ').lower()\n",
        "    while (health != 'n') and (health not in example_health):\n",
        "        health = input(f'Please choose your health requirements from the following, or type \"N\" if none.\\n{example_health}: ').lower()\n",
        "    if health == 'n':\n",
        "        health = \"\"\n",
        "    else:\n",
        "        health = 'health={}'.format(health)\n",
        "    print('==================================================================================')\n",
        "\n",
        "    # We then ask them to enter any calorie range preferences.\n",
        "    calorie_ranges = ['100-300', '300-600', '600-1000']\n",
        "    calories = input(f'{calorie_ranges}\\nWhat is your preferred calorie range? (Type N if N/A): ').lower()\n",
        "    while (calories != 'n') and (calories not in calorie_ranges):\n",
        "        calories = input(f'Please choose your calories from the following, or type \"N\" if N/A: \\n{calorie_ranges}: '.lower())\n",
        "    if calories == 'n':\n",
        "        calories = \"\"\n",
        "    else:\n",
        "        calories = 'calories={}'.format(calories)\n",
        "    print('==================================================================================')\n",
        "    \n",
        "    # This counts the number of results.\n",
        "    results = recipe_search(ingredients, diets, health, calories)\n",
        "    count = 0\n",
        "    for result in results:\n",
        "        recipe = result['recipe']\n",
        "        count += 1\n",
        "    \n",
        "    # Here we save all the results in a text file.\n",
        "    with open('My Recipes.txt', 'w') as f:\n",
        "      if count == 0:\n",
        "          f.write('Sorry, no recipes were found for your requirements! Please try again.')\n",
        "          f.write('==================================================================================')\n",
        "      else:\n",
        "        f.write(\"Here are your recipes:\\n==================================================================================\\n\")\n",
        "        for result in results:\n",
        "          recipe = result['recipe']\n",
        "          title = recipe['label']\n",
        "          link = recipe['url']\n",
        "          calories = round(int(recipe['calories'] / recipe['yield']))\n",
        "          f.write(f\"{title}\\n{link}\\nEach serving contains {calories} calories.\\n\")\n",
        "          f.write('==================================================================================\\n')\n",
        "          pass\n",
        "        f.write('Enjoy your meal!')\n",
        "        print(f'Your recipes have been saved.\\n==================================================================================')\n",
        "        \n",
        "    # Here we display the results saved in the text file.\n",
        "    with open('My Recipes.txt', 'r') as f:\n",
        "      contents = f.read()\n",
        "      print(contents)\n",
        "\n",
        "run()"
      ],
      "metadata": {
        "id": "vgtNA3RHbhnV"
      },
      "execution_count": null,
      "outputs": []
    }
  ]
}