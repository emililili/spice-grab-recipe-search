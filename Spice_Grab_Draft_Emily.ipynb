{
  "nbformat": 4,
  "nbformat_minor": 0,
  "metadata": {
    "colab": {
      "provenance": [],
      "authorship_tag": "ABX9TyM5QMg5+l7PsHCMq4YNEN0C",
      "include_colab_link": true
    },
    "kernelspec": {
      "name": "python3",
      "display_name": "Python 3"
    },
    "language_info": {
      "name": "python"
    }
  },
  "cells": [
    {
      "cell_type": "markdown",
      "metadata": {
        "id": "view-in-github",
        "colab_type": "text"
      },
      "source": [
        "<a href=\"https://colab.research.google.com/github/emililili/spice-grab-recipe-search/blob/main/Spice_Grab_Draft_Emily.ipynb\" target=\"_parent\"><img src=\"https://colab.research.google.com/assets/colab-badge.svg\" alt=\"Open In Colab\"/></a>"
      ]
    },
    {
      "cell_type": "markdown",
      "source": [
        "# **Recipe Search by Ingredient: CFG Python Course 2023**\n",
        "\n",
        "The following app integrates the Edamam API for recipe searching by ingredients the user wishes to use."
      ],
      "metadata": {
        "id": "X0mYsq9bl-8N"
      }
    },
    {
      "cell_type": "code",
      "execution_count": 63,
      "metadata": {
        "id": "y0S7uhOkkw2d"
      },
      "outputs": [],
      "source": [
        "# We start by importing the requests module.\n",
        "import requests"
      ]
    },
    {
      "cell_type": "code",
      "source": [
        "# This function searches recipes based on inputted ingredients.\n",
        "def recipe_search(ingredients, diets): \n",
        "    # Register to get an APP ID and key on https://developer.edamam.com/ \n",
        "    app_id = 'app_id={}'.format('08543282')\n",
        "    app_key = 'app_key={}'.format('7bbfb49dc7ceedc354cb535f56d49b15')\n",
        "    result = requests.get('https://api.edamam.com/search?{}&{}&{}&{}'.format(ingredients, diets, app_id, app_key))\n",
        "    data = result.json() \n",
        "    return data['hits']"
      ],
      "metadata": {
        "id": "vObSApqxk7lt"
      },
      "execution_count": 69,
      "outputs": []
    },
    {
      "cell_type": "code",
      "source": [
        "def run(): \n",
        "    \n",
        "    # First we ask users to input at least one of their ingredient choices.\n",
        "    ingredients = input('Enter one or more ingredients: ') \n",
        "    while ingredients == '' or ingredients.isspace():\n",
        "        ingredients = input('Please enter at least one or more ingredients. Try again: ')\n",
        "    ingredients = 'q={}'.format(ingredients)\n",
        "\n",
        "    #We then ask them to enter any dietary preferences.\n",
        "    example_diets = ['balanced', 'high-fiber', 'high-protein', 'low-carb', 'low-fat', 'low-sodium']\n",
        "    diets = input(f'{example_diets}\\nWhat kind of diet are you on? Type \"N\" if none: ').lower()\n",
        "    while (diets != 'n') and (diets not in example_diets):\n",
        "        diets = input(f'Please choose your diet from the following, or type \"N\" if none.\\n{example_diets}: ').lower()\n",
        "    diets = 'diet={}'.format(diets)\n",
        "\n",
        "    # Here we print results.\n",
        "    results = recipe_search(ingredients, diets)\n",
        "    for result in results: \n",
        "      recipe = result['recipe'] \n",
        "      print(recipe['label']) \n",
        "      print(recipe['url']) \n",
        "      print() \n",
        "\n",
        "run()"
      ],
      "metadata": {
        "id": "vgtNA3RHbhnV",
        "colab": {
          "base_uri": "https://localhost:8080/"
        },
        "outputId": "6b3a8e8b-dde3-4895-d5dd-7bffcfd07e9a"
      },
      "execution_count": 71,
      "outputs": [
        {
          "output_type": "stream",
          "name": "stdout",
          "text": [
            "Enter one or more ingredients: potato beef cheese\n",
            "['balanced', 'high-fiber', 'high-protein', 'low-carb', 'low-fat', 'low-sodium']\n",
            "What kind of diet are you on? Type \"N\" if none: high-fiber\n",
            "Mexican beef & potato pie\n",
            "https://www.bbcgoodfood.com/recipes/mexican-beef-potato-pie\n",
            "\n",
            "Carpaccio with Potato Salad\n",
            "http://www.delish.com/cooking/recipe-ideas/recipes/a21849/carpaccio-potato-salad-recipe-del0813/\n",
            "\n",
            "Beef & Bulgur Burgers with Blue Cheese\n",
            "http://www.eatingwell.com/recipe/251245/beef-bulgur-burgers-with-blue-cheese/\n",
            "\n",
            "Beef & lentil cottage pie with cauliflower & potato topping\n",
            "http://www.bbcgoodfood.com/recipes/beef-lentil-cottage-pie-cauliflower-potato-topping\n",
            "\n",
            "Beef Vegetable Soup Bourguignon\n",
            "https://food52.com/recipes/25736-beef-vegetable-soup-bourguignon\n",
            "\n",
            "Shepherd's Pie Meatloaf With Parmesan Potato Crust and Stilton Sauce Recipe\n",
            "http://www.seriouseats.com/recipes/2014/10/shepherds-pie-meatloaf-with-parmesan-potato-crust-stilton-sauyce-recipe.html\n",
            "\n",
            "Poutine (French Fries With Gravy And Cheese Curds)\n",
            "http://www.saveur.com/article/Recipes/Classic-Gravy-Fries\n",
            "\n",
            "Shake Shack's Classic Cheeseburger recipes\n",
            "https://www.tastingtable.com/cook/recipes/shake-shack-cheese-burger-recipe\n",
            "\n",
            "Scalloped Potatoes with Caramelized Onions and Gruyere recipes\n",
            "http://www.simplyrecipes.com/recipes/scalloped_potatoes_with_caramelized_onions_and_gruyere/\n",
            "\n",
            "Gluten Free Braised Lamb Ravioli With Shitake Parsley Broth recipes\n",
            "http://www.tarteletteblog.com/2010/11/recipe-gluten-free-braised-lamb-ravioli.html\n",
            "\n"
          ]
        }
      ]
    },
    {
      "cell_type": "code",
      "source": [
        "# Here we will save as a ??? file."
      ],
      "metadata": {
        "id": "sbrcnIp8wy12"
      },
      "execution_count": null,
      "outputs": []
    }
  ]
}