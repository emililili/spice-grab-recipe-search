{
  "nbformat": 4,
  "nbformat_minor": 0,
  "metadata": {
    "colab": {
      "provenance": [],
      "authorship_tag": "ABX9TyM2RW9rwIMccROAiftIkFS2",
      "include_colab_link": true
    },
    "kernelspec": {
      "name": "python3",
      "display_name": "Python 3"
    },
    "language_info": {
      "name": "python"
    }
  },
  "cells": [
    {
      "cell_type": "markdown",
      "metadata": {
        "id": "view-in-github",
        "colab_type": "text"
      },
      "source": [
        "<a href=\"https://colab.research.google.com/github/emililili/spice-grab-recipe-search/blob/main/Spice_Grab_Draft_Emily.ipynb\" target=\"_parent\"><img src=\"https://colab.research.google.com/assets/colab-badge.svg\" alt=\"Open In Colab\"/></a>"
      ]
    },
    {
      "cell_type": "markdown",
      "source": [
        "# **Recipe Search by Ingredient: CFG Python Course 2023**\n",
        "\n",
        "The following app integrates the Edamam API for recipe searching by ingredients the user wishes to use."
      ],
      "metadata": {
        "id": "X0mYsq9bl-8N"
      }
    },
    {
      "cell_type": "code",
      "execution_count": 52,
      "metadata": {
        "id": "y0S7uhOkkw2d"
      },
      "outputs": [],
      "source": [
        "# We start by importing the requests module.\n",
        "import requests"
      ]
    },
    {
      "cell_type": "code",
      "source": [
        "# This function searches recipes based on inputted ingredients.\n",
        "def recipe_search(ingredients, diets): \n",
        "    # Register to get an APP ID and key on https://developer.edamam.com/ \n",
        "    app_id = 'app_id={}'.format('08543282')\n",
        "    app_key = 'app_key={}'.format('7bbfb49dc7ceedc354cb535f56d49b15')\n",
        "    result = requests.get('https://api.edamam.com/search?{}&{}&{}&{}'.format(ingredients, diets, app_id, app_key))\n",
        "    data = result.json() \n",
        "    return data['hits']"
      ],
      "metadata": {
        "id": "vObSApqxk7lt"
      },
      "execution_count": 53,
      "outputs": []
    },
    {
      "cell_type": "code",
      "source": [
        "def run(): \n",
        "    \n",
        "    # First we ask users to input at least one of their ingredient choices.\n",
        "    ingredients = input('Enter one or more ingredients: ') \n",
        "    while ingredients == '' or ingredients.isspace():\n",
        "        ingredients = input('Please enter at least one or more ingredients. Try again: ')\n",
        "    ingredients = 'q={}'.format(ingredients)\n",
        "\n",
        "    #We then ask them to enter any dietary preferences.\n",
        "    example_diets = ['balanced', 'high-fiber', 'high-protein', 'low-carb', 'low-fat', 'low-sodium']\n",
        "    diets = input(f'{example_diets}\\nWhat kind of diet are you on? Type \"N\" if none: ').lower()\n",
        "    while (diets != 'n') and (diets not in example_diets):\n",
        "        diets = input(f'Please choose your diet from the following, or type \"N\" if none.\\n{example_diets}: ').lower()\n",
        "    if diets == \"n\":\n",
        "        diets_yn = 0\n",
        "    elif diets in example_diets:\n",
        "        diets = 'diet={}'.format(diets)\n",
        "        diets_yn = 1\n",
        "\n",
        "    # Here we print results.\n",
        "    results = recipe_search(ingredients, diets)\n",
        "    for result in results: \n",
        "      recipe = result['recipe'] \n",
        "      print(recipe['label']) \n",
        "      print(recipe['url']) \n",
        "      print() \n",
        "\n",
        "run()"
      ],
      "metadata": {
        "id": "vgtNA3RHbhnV",
        "colab": {
          "base_uri": "https://localhost:8080/"
        },
        "outputId": "0bc0a2d0-408d-45a5-c1cb-14573914ae46"
      },
      "execution_count": 55,
      "outputs": [
        {
          "output_type": "stream",
          "name": "stdout",
          "text": [
            "Enter one or more ingredients: strawberry banana\n",
            "['balanced', 'high-fiber', 'high-protein', 'low-carb', 'low-fat', 'low-sodium']\n",
            "What kind of diet are you on? Type \"N\" if none:  \n",
            "Please choose your diet from the following, or type \"N\" if none.\n",
            "['balanced', 'high-fiber', 'high-protein', 'low-carb', 'low-fat', 'low-sodium']: n\n",
            "Strawberry-Banana Granola\n",
            "http://ruhlman.com/2009/06/bananastrawberry-granola/\n",
            "\n",
            "Classic Strawberry-Banana Smoothie\n",
            "http://www.finecooking.com/recipes/classic-strawberry-banana-smoothie.aspx\n",
            "\n",
            "Strawberry-Banana Sherbet recipes\n",
            "http://www.marthastewart.com/353412/strawberry-banana-sherbet\n",
            "\n",
            "Strawberry-Banana Smoothies\n",
            "http://www.eatingwell.com/recipe/259791/strawberry-banana-smoothies/\n",
            "\n",
            "Strawberry & Banana Smoothie\n",
            "http://www.sfgate.com/food/recipes/detail.html?rid=18157&sorig=qs\n",
            "\n",
            "Strawberry Banana Ice Milk\n",
            "http://www.injennieskitchen.com/2010/09/strawberry-banana-ice-milk-breakfast-sundaes.html\n",
            "\n",
            "Strawberry-Banana Margarita\n",
            "https://www.realsimple.com/food-recipes/browse-all-recipes/strawberry-banana-margarita-0\n",
            "\n",
            "Strawberry Banana Smoothie\n",
            "https://www.delish.com/cooking/recipe-ideas/a20719943/healthy-strawberry-banana-smoothie-recipe/\n",
            "\n",
            "Strawberry Banana Peanut Butter Oats recipes\n",
            "http://ohsheglows.com/2011/02/10/how-to-make-a-light-reflector-in-1-minute-flat/\n",
            "\n",
            "Strawberry Banana Coconut Smoothie\n",
            "http://whatsgabycooking.com/strawberry-banana-coconut-smoothie/#.UlyI5VAy0us\n",
            "\n"
          ]
        }
      ]
    }
  ]
}