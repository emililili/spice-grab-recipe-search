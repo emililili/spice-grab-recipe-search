{
  "nbformat": 4,
  "nbformat_minor": 0,
  "metadata": {
    "colab": {
      "provenance": [],
      "authorship_tag": "ABX9TyOBKZilotQbEWdbl1cCaSw0",
      "include_colab_link": true
    },
    "kernelspec": {
      "name": "python3",
      "display_name": "Python 3"
    },
    "language_info": {
      "name": "python"
    }
  },
  "cells": [
    {
      "cell_type": "markdown",
      "metadata": {
        "id": "view-in-github",
        "colab_type": "text"
      },
      "source": [
        "<a href=\"https://colab.research.google.com/github/emililili/spice-grab-recipe-search/blob/main/Spice_Grab_Draft_Emily.ipynb\" target=\"_parent\"><img src=\"https://colab.research.google.com/assets/colab-badge.svg\" alt=\"Open In Colab\"/></a>"
      ]
    },
    {
      "cell_type": "code",
      "execution_count": null,
      "metadata": {
        "id": "y0S7uhOkkw2d"
      },
      "outputs": [],
      "source": [
        "import requests"
      ]
    },
    {
      "cell_type": "code",
      "source": [
        "def recipe_search(ingredient): \n",
        "    # Register to get an APP ID and key https://developer.edamam.com/ \n",
        "    app_id = '08543282' \n",
        "    app_key = '7bbfb49dc7ceedc354cb535f56d49b15' \n",
        "    result = requests.get('https://api.edamam.com/search?q={}&app_id={}&app_key={}'.format(ingredient, app_id, app_key)) \n",
        "    data = result.json() \n",
        "\n",
        "    return data['hits'] \n",
        " \n",
        "def run(): \n",
        "    ingredient = input('Enter an ingredient: ') \n",
        " \n",
        "    results = recipe_search(ingredient) \n",
        " \n",
        "    for result in results: \n",
        "        recipe = result['recipe'] \n",
        " \n",
        "        print(recipe['label']) \n",
        "        print(recipe['url']) \n",
        "        print() \n",
        "  \n",
        "run() \n"
      ],
      "metadata": {
        "id": "vObSApqxk7lt",
        "colab": {
          "base_uri": "https://localhost:8080/"
        },
        "outputId": "66c0de5f-5381-4698-bbd4-e1cd5980fbe3"
      },
      "execution_count": null,
      "outputs": [
        {
          "output_type": "stream",
          "name": "stdout",
          "text": [
            "Enter an ingredient: milk\n",
            "Milk Liqueur\n",
            "http://www.seriouseats.com/recipes/2010/08/milk-liqueur-recipe.html\n",
            "\n",
            "Milk Punch\n",
            "http://smittenkitchen.com/2010/12/milk-punch/\n",
            "\n",
            "Bourbon Milk Punch\n",
            "http://ruhlman.com/2014/03/friday-cocktail-hour-bourbon-milk-punch/\n",
            "\n",
            "Strawberry Milk\n",
            "http://simplyrecipes.com/recipes/strawberry_milk/\n",
            "\n",
            "Condensed Milk Ice Cream\n",
            "http://www.sevenspoons.net/blog/2009/11/18/an-impatient-age.html\n",
            "\n",
            "Strawberry milk pops\n",
            "https://www.bbcgoodfood.com/recipes/strawberry-milk-pops\n",
            "\n",
            "Milk Peas\n",
            "http://www.food52.com/recipes/11802_milk_peas\n",
            "\n",
            "Whole Milk Ricotta\n",
            "http://honestcooking.com/from-a-vermont-kitchen-whole-milk-ricotta-recipe/\n",
            "\n",
            "Milk Kefir\n",
            "http://www.eatingwell.com/recipe/265893/milk-kefir/\n",
            "\n",
            "Milk Punch\n",
            "https://www.marthastewart.com/344533/milk-punch\n",
            "\n"
          ]
        }
      ]
    }
  ]
}